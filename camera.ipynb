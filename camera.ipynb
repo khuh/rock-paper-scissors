{
 "cells": [
  {
   "cell_type": "code",
   "execution_count": 1,
   "metadata": {},
   "outputs": [
    {
     "name": "stdout",
     "output_type": "stream",
     "text": [
      "Requirement already satisfied: pynput in /Users/jeongmungyeong/anaconda3/lib/python3.11/site-packages (1.7.7)\n",
      "Requirement already satisfied: six in /Users/jeongmungyeong/anaconda3/lib/python3.11/site-packages (from pynput) (1.16.0)\n",
      "Requirement already satisfied: pyobjc-framework-ApplicationServices>=8.0 in /Users/jeongmungyeong/anaconda3/lib/python3.11/site-packages (from pynput) (10.3.1)\n",
      "Requirement already satisfied: pyobjc-framework-Quartz>=8.0 in /Users/jeongmungyeong/anaconda3/lib/python3.11/site-packages (from pynput) (10.3.1)\n",
      "Requirement already satisfied: pyobjc-core>=10.3.1 in /Users/jeongmungyeong/anaconda3/lib/python3.11/site-packages (from pyobjc-framework-ApplicationServices>=8.0->pynput) (10.3.1)\n",
      "Requirement already satisfied: pyobjc-framework-Cocoa>=10.3.1 in /Users/jeongmungyeong/anaconda3/lib/python3.11/site-packages (from pyobjc-framework-ApplicationServices>=8.0->pynput) (10.3.1)\n",
      "Requirement already satisfied: pyobjc-framework-CoreText>=10.3.1 in /Users/jeongmungyeong/anaconda3/lib/python3.11/site-packages (from pyobjc-framework-ApplicationServices>=8.0->pynput) (10.3.1)\n"
     ]
    }
   ],
   "source": [
    "!pip install pynput"
   ]
  },
  {
   "cell_type": "code",
   "execution_count": 3,
   "metadata": {},
   "outputs": [
    {
     "name": "stderr",
     "output_type": "stream",
     "text": [
      "This process is not trusted! Input event monitoring will not be possible until it is added to accessibility clients.\n"
     ]
    },
    {
     "ename": "KeyboardInterrupt",
     "evalue": "",
     "output_type": "error",
     "traceback": [
      "\u001b[0;31m---------------------------------------------------------------------------\u001b[0m",
      "\u001b[0;31mKeyboardInterrupt\u001b[0m                         Traceback (most recent call last)",
      "Cell \u001b[0;32mIn[3], line 32\u001b[0m\n\u001b[1;32m     29\u001b[0m listener\u001b[38;5;241m.\u001b[39mstart()\n\u001b[1;32m     31\u001b[0m \u001b[38;5;28;01mwhile\u001b[39;00m \u001b[38;5;28;01mTrue\u001b[39;00m:\n\u001b[0;32m---> 32\u001b[0m     ret, frame \u001b[38;5;241m=\u001b[39m cap\u001b[38;5;241m.\u001b[39mread()\n\u001b[1;32m     33\u001b[0m     \u001b[38;5;28;01mif\u001b[39;00m \u001b[38;5;129;01mnot\u001b[39;00m ret:\n\u001b[1;32m     34\u001b[0m         \u001b[38;5;28mprint\u001b[39m(\u001b[38;5;124m\"\u001b[39m\u001b[38;5;124m프레임을 읽을 수 없습니다.\u001b[39m\u001b[38;5;124m\"\u001b[39m)\n",
      "\u001b[0;31mKeyboardInterrupt\u001b[0m: "
     ]
    },
    {
     "ename": "",
     "evalue": "",
     "output_type": "error",
     "traceback": [
      "\u001b[1;31m현재 셀 또는 이전 셀에서 코드를 실행하는 동안 Kernel이 충돌했습니다. \n",
      "\u001b[1;31m셀의 코드를 검토하여 가능한 오류 원인을 식별하세요. \n",
      "\u001b[1;31m자세한 내용을 보려면 <a href='https://aka.ms/vscodeJupyterKernelCrash'>여기</a>를 클릭하세요. \n",
      "\u001b[1;31m자세한 내용은 Jupyter <a href='command:jupyter.viewOutput'>로그</a>를 참조하세요."
     ]
    }
   ],
   "source": [
    "import cv2\n",
    "from pynput import keyboard\n",
    "\n",
    "# 웹캠을 캡처하는 객체 생성 (디폴트 웹캠은 인덱스 0)\n",
    "cap = cv2.VideoCapture(0)\n",
    "\n",
    "if not cap.isOpened():\n",
    "    print(\"웹캠을 열 수 없습니다.\")\n",
    "    exit()\n",
    "\n",
    "# 명시적으로 창을 생성\n",
    "cv2.namedWindow('Webcam', cv2.WINDOW_NORMAL)\n",
    "\n",
    "# 종료 플래그\n",
    "exit_flag = False\n",
    "\n",
    "# 키보드 이벤트 핸들러\n",
    "def on_press(key):\n",
    "    global exit_flag\n",
    "    try:\n",
    "        if key.char == 'q':  # 'q' 키를 감지하면 종료 플래그 설정\n",
    "            exit_flag = True\n",
    "            return False  # 리스너를 멈추기 위해 False 반환\n",
    "    except AttributeError:\n",
    "        pass\n",
    "\n",
    "# 키보드 리스너 시작\n",
    "listener = keyboard.Listener(on_press=on_press)\n",
    "listener.start()\n",
    "\n",
    "while True:\n",
    "    ret, frame = cap.read()\n",
    "    if not ret:\n",
    "        print(\"프레임을 읽을 수 없습니다.\")\n",
    "        break\n",
    "\n",
    "    # 프레임을 창에 표시\n",
    "    cv2.imshow('Webcam', frame)\n",
    "\n",
    "    # 글로벌 후커에서 'q' 키를 감지하면 종료\n",
    "    if exit_flag:\n",
    "        break\n",
    "\n",
    "    # OpenCV의 창이 종료되었는지 체크 (필요 시 추가)\n",
    "    if cv2.getWindowProperty('Webcam', cv2.WND_PROP_VISIBLE) < 1:\n",
    "        break\n",
    "\n",
    "# 웹캠과 창 해제\n",
    "cap.release()\n",
    "cv2.destroyAllWindows()\n",
    "\n",
    "# 리스너 종료\n",
    "listener.stop()\n",
    "listener.join()\n"
   ]
  },
  {
   "cell_type": "code",
   "execution_count": 2,
   "metadata": {},
   "outputs": [],
   "source": [
    "cap.release()\n",
    "cv2.destroyAllWindows()"
   ]
  },
  {
   "cell_type": "code",
   "execution_count": null,
   "metadata": {},
   "outputs": [],
   "source": []
  }
 ],
 "metadata": {
  "kernelspec": {
   "display_name": "Python 3",
   "language": "python",
   "name": "python3"
  },
  "language_info": {
   "codemirror_mode": {
    "name": "ipython",
    "version": 3
   },
   "file_extension": ".py",
   "mimetype": "text/x-python",
   "name": "python",
   "nbconvert_exporter": "python",
   "pygments_lexer": "ipython3",
   "version": "3.11.5"
  }
 },
 "nbformat": 4,
 "nbformat_minor": 2
}
